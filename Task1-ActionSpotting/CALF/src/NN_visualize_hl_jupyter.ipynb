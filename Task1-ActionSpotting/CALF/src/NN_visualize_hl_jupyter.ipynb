{
 "cells": [
  {
   "cell_type": "code",
   "execution_count": 4,
   "metadata": {},
   "outputs": [
    {
     "name": "stdout",
     "output_type": "stream",
     "text": [
      "ContextAwareModel(\n",
      "  (conv_1): Conv2d(1, 128, kernel_size=(1, 512), stride=(1, 1))\n",
      "  (conv_2): Conv2d(128, 32, kernel_size=(1, 1), stride=(1, 1))\n",
      "  (pad_p_1): ZeroPad2d(padding=(0, 0, 5, 6), value=0.0)\n",
      "  (pad_p_2): ZeroPad2d(padding=(0, 0, 13, 13), value=0.0)\n",
      "  (pad_p_3): ZeroPad2d(padding=(0, 0, 19, 20), value=0.0)\n",
      "  (pad_p_4): ZeroPad2d(padding=(0, 0, 39, 40), value=0.0)\n",
      "  (conv_p_1): Conv2d(32, 8, kernel_size=(12, 1), stride=(1, 1))\n",
      "  (conv_p_2): Conv2d(32, 16, kernel_size=(27, 1), stride=(1, 1))\n",
      "  (conv_p_3): Conv2d(32, 32, kernel_size=(40, 1), stride=(1, 1))\n",
      "  (conv_p_4): Conv2d(32, 64, kernel_size=(80, 1), stride=(1, 1))\n",
      "  (pad_seg): ZeroPad2d(padding=(0, 0, 1, 1), value=0.0)\n",
      "  (conv_seg): Conv2d(152, 48, kernel_size=(3, 1), stride=(1, 1))\n",
      "  (batch_seg): BatchNorm2d(240, eps=0.001, momentum=0.01, affine=True, track_running_stats=True)\n",
      "  (max_pool_spot): MaxPool2d(kernel_size=(3, 1), stride=(2, 1), padding=0, dilation=1, ceil_mode=False)\n",
      "  (pad_spot_1): ZeroPad2d(padding=(0, 0, 1, 1), value=0.0)\n",
      "  (conv_spot_1): Conv2d(51, 32, kernel_size=(3, 1), stride=(1, 1))\n",
      "  (max_pool_spot_1): MaxPool2d(kernel_size=(3, 1), stride=(2, 1), padding=0, dilation=1, ceil_mode=False)\n",
      "  (pad_spot_2): ZeroPad2d(padding=(0, 0, 1, 1), value=0.0)\n",
      "  (conv_spot_2): Conv2d(32, 16, kernel_size=(3, 1), stride=(1, 1))\n",
      "  (max_pool_spot_2): MaxPool2d(kernel_size=(3, 1), stride=(2, 1), padding=0, dilation=1, ceil_mode=False)\n",
      "  (conv_conf): Conv2d(464, 10, kernel_size=(1, 1), stride=(1, 1))\n",
      "  (conv_class): Conv2d(464, 15, kernel_size=(1, 1), stride=(1, 1))\n",
      "  (softmax): Softmax(dim=-1)\n",
      ")\n"
     ]
    },
    {
     "ename": "RuntimeError",
     "evalue": "Exporting the operator square to ONNX opset version 9 is not supported. Please open a bug to request ONNX export support for the missing operator.",
     "output_type": "error",
     "traceback": [
      "\u001b[1;31m---------------------------------------------------------------------------\u001b[0m",
      "\u001b[1;31mRuntimeError\u001b[0m                              Traceback (most recent call last)",
      "Cell \u001b[1;32mIn[4], line 17\u001b[0m\n\u001b[0;32m     12\u001b[0m \u001b[38;5;28mprint\u001b[39m(model)\n\u001b[0;32m     14\u001b[0m \u001b[38;5;66;03m# x = torch.randn(128, 1, 240, 512)\u001b[39;00m\n\u001b[0;32m     15\u001b[0m \u001b[38;5;66;03m# y = model(x)\u001b[39;00m\n\u001b[1;32m---> 17\u001b[0m hl_graph \u001b[38;5;241m=\u001b[39m \u001b[43mhl\u001b[49m\u001b[38;5;241;43m.\u001b[39;49m\u001b[43mbuild_graph\u001b[49m\u001b[43m(\u001b[49m\u001b[43mmodel\u001b[49m\u001b[43m,\u001b[49m\u001b[43m \u001b[49m\u001b[43mtorch\u001b[49m\u001b[38;5;241;43m.\u001b[39;49m\u001b[43mzeros\u001b[49m\u001b[43m(\u001b[49m\u001b[43m[\u001b[49m\u001b[38;5;241;43m128\u001b[39;49m\u001b[43m,\u001b[49m\u001b[43m \u001b[49m\u001b[38;5;241;43m1\u001b[39;49m\u001b[43m,\u001b[49m\u001b[43m \u001b[49m\u001b[38;5;241;43m240\u001b[39;49m\u001b[43m,\u001b[49m\u001b[43m \u001b[49m\u001b[38;5;241;43m512\u001b[39;49m\u001b[43m]\u001b[49m\u001b[43m)\u001b[49m\u001b[43m)\u001b[49m\u001b[38;5;241m.\u001b[39mbuild_dot()\n\u001b[0;32m     18\u001b[0m \u001b[38;5;66;03m#hl_graph = hl.build_graph(model, torch.zeros([1, 3, 224, 224])).build_dot()\u001b[39;00m\n\u001b[0;32m     19\u001b[0m \n\u001b[0;32m     20\u001b[0m \u001b[38;5;66;03m# Use a different color theme\u001b[39;00m\n\u001b[0;32m     21\u001b[0m hl_graph\u001b[38;5;241m.\u001b[39mtheme \u001b[38;5;241m=\u001b[39m hl\u001b[38;5;241m.\u001b[39mgraph\u001b[38;5;241m.\u001b[39mTHEMES[\u001b[38;5;124m\"\u001b[39m\u001b[38;5;124mblue\u001b[39m\u001b[38;5;124m\"\u001b[39m]\u001b[38;5;241m.\u001b[39mcopy()  \u001b[38;5;66;03m# Two options: basic and blue\u001b[39;00m\n",
      "File \u001b[1;32mc:\\ProgramData\\Anaconda3\\envs\\calf-pytorch\\lib\\site-packages\\hiddenlayer\\graph.py:143\u001b[0m, in \u001b[0;36mbuild_graph\u001b[1;34m(model, args, input_names, transforms, framework_transforms)\u001b[0m\n\u001b[0;32m    141\u001b[0m     \u001b[38;5;28;01mfrom\u001b[39;00m \u001b[38;5;21;01m.\u001b[39;00m\u001b[38;5;21;01mpytorch_builder\u001b[39;00m \u001b[38;5;28;01mimport\u001b[39;00m import_graph, FRAMEWORK_TRANSFORMS\n\u001b[0;32m    142\u001b[0m     \u001b[38;5;28;01massert\u001b[39;00m args \u001b[38;5;129;01mis\u001b[39;00m \u001b[38;5;129;01mnot\u001b[39;00m \u001b[38;5;28;01mNone\u001b[39;00m, \u001b[38;5;124m\"\u001b[39m\u001b[38;5;124mArgument args must be provided for Pytorch models.\u001b[39m\u001b[38;5;124m\"\u001b[39m\n\u001b[1;32m--> 143\u001b[0m     \u001b[43mimport_graph\u001b[49m\u001b[43m(\u001b[49m\u001b[43mg\u001b[49m\u001b[43m,\u001b[49m\u001b[43m \u001b[49m\u001b[43mmodel\u001b[49m\u001b[43m,\u001b[49m\u001b[43m \u001b[49m\u001b[43margs\u001b[49m\u001b[43m)\u001b[49m\n\u001b[0;32m    144\u001b[0m \u001b[38;5;28;01melif\u001b[39;00m framework \u001b[38;5;241m==\u001b[39m \u001b[38;5;124m\"\u001b[39m\u001b[38;5;124mtensorflow\u001b[39m\u001b[38;5;124m\"\u001b[39m:\n\u001b[0;32m    145\u001b[0m     \u001b[38;5;28;01mfrom\u001b[39;00m \u001b[38;5;21;01m.\u001b[39;00m\u001b[38;5;21;01mtf_builder\u001b[39;00m \u001b[38;5;28;01mimport\u001b[39;00m import_graph, FRAMEWORK_TRANSFORMS\n",
      "File \u001b[1;32mc:\\ProgramData\\Anaconda3\\envs\\calf-pytorch\\lib\\site-packages\\hiddenlayer\\pytorch_builder.py:71\u001b[0m, in \u001b[0;36mimport_graph\u001b[1;34m(hl_graph, model, args, input_names, verbose)\u001b[0m\n\u001b[0;32m     66\u001b[0m \u001b[38;5;28;01mdef\u001b[39;00m \u001b[38;5;21mimport_graph\u001b[39m(hl_graph, model, args, input_names\u001b[38;5;241m=\u001b[39m\u001b[38;5;28;01mNone\u001b[39;00m, verbose\u001b[38;5;241m=\u001b[39m\u001b[38;5;28;01mFalse\u001b[39;00m):\n\u001b[0;32m     67\u001b[0m     \u001b[38;5;66;03m# TODO: add input names to graph\u001b[39;00m\n\u001b[0;32m     68\u001b[0m \n\u001b[0;32m     69\u001b[0m     \u001b[38;5;66;03m# Run the Pytorch graph to get a trace and generate a graph from it\u001b[39;00m\n\u001b[0;32m     70\u001b[0m     trace, out \u001b[38;5;241m=\u001b[39m torch\u001b[38;5;241m.\u001b[39mjit\u001b[38;5;241m.\u001b[39m_get_trace_graph(model, args)\n\u001b[1;32m---> 71\u001b[0m     torch_graph \u001b[38;5;241m=\u001b[39m \u001b[43mtorch\u001b[49m\u001b[38;5;241;43m.\u001b[39;49m\u001b[43monnx\u001b[49m\u001b[38;5;241;43m.\u001b[39;49m\u001b[43m_optimize_trace\u001b[49m\u001b[43m(\u001b[49m\u001b[43mtrace\u001b[49m\u001b[43m,\u001b[49m\u001b[43m \u001b[49m\u001b[43mtorch\u001b[49m\u001b[38;5;241;43m.\u001b[39;49m\u001b[43monnx\u001b[49m\u001b[38;5;241;43m.\u001b[39;49m\u001b[43mOperatorExportTypes\u001b[49m\u001b[38;5;241;43m.\u001b[39;49m\u001b[43mONNX\u001b[49m\u001b[43m)\u001b[49m\n\u001b[0;32m     73\u001b[0m     \u001b[38;5;66;03m# Dump list of nodes (DEBUG only)\u001b[39;00m\n\u001b[0;32m     74\u001b[0m     \u001b[38;5;28;01mif\u001b[39;00m verbose:\n",
      "File \u001b[1;32mc:\\ProgramData\\Anaconda3\\envs\\calf-pytorch\\lib\\site-packages\\torch\\onnx\\__init__.py:223\u001b[0m, in \u001b[0;36m_optimize_trace\u001b[1;34m(graph, operator_export_type)\u001b[0m\n\u001b[0;32m    221\u001b[0m \u001b[38;5;28;01mdef\u001b[39;00m \u001b[38;5;21m_optimize_trace\u001b[39m(graph, operator_export_type):\n\u001b[0;32m    222\u001b[0m     \u001b[38;5;28;01mfrom\u001b[39;00m \u001b[38;5;21;01mtorch\u001b[39;00m\u001b[38;5;21;01m.\u001b[39;00m\u001b[38;5;21;01monnx\u001b[39;00m \u001b[38;5;28;01mimport\u001b[39;00m utils\n\u001b[1;32m--> 223\u001b[0m     \u001b[38;5;28;01mreturn\u001b[39;00m \u001b[43mutils\u001b[49m\u001b[38;5;241;43m.\u001b[39;49m\u001b[43m_optimize_graph\u001b[49m\u001b[43m(\u001b[49m\u001b[43mgraph\u001b[49m\u001b[43m,\u001b[49m\u001b[43m \u001b[49m\u001b[43moperator_export_type\u001b[49m\u001b[43m)\u001b[49m\n",
      "File \u001b[1;32mc:\\ProgramData\\Anaconda3\\envs\\calf-pytorch\\lib\\site-packages\\torch\\onnx\\utils.py:188\u001b[0m, in \u001b[0;36m_optimize_graph\u001b[1;34m(graph, operator_export_type, _disable_torch_constant_prop, fixed_batch_size, params_dict)\u001b[0m\n\u001b[0;32m    185\u001b[0m \u001b[38;5;66;03m# onnx only supports tensors, so we turn all out number types into tensors\u001b[39;00m\n\u001b[0;32m    186\u001b[0m torch\u001b[38;5;241m.\u001b[39m_C\u001b[38;5;241m.\u001b[39m_jit_pass_erase_number_types(graph)\n\u001b[1;32m--> 188\u001b[0m graph \u001b[38;5;241m=\u001b[39m \u001b[43mtorch\u001b[49m\u001b[38;5;241;43m.\u001b[39;49m\u001b[43m_C\u001b[49m\u001b[38;5;241;43m.\u001b[39;49m\u001b[43m_jit_pass_onnx\u001b[49m\u001b[43m(\u001b[49m\u001b[43mgraph\u001b[49m\u001b[43m,\u001b[49m\u001b[43m \u001b[49m\u001b[43moperator_export_type\u001b[49m\u001b[43m)\u001b[49m\n\u001b[0;32m    189\u001b[0m torch\u001b[38;5;241m.\u001b[39m_C\u001b[38;5;241m.\u001b[39m_jit_pass_lint(graph)\n\u001b[0;32m    191\u001b[0m torch\u001b[38;5;241m.\u001b[39m_C\u001b[38;5;241m.\u001b[39m_jit_pass_onnx_scalar_type_analysis(graph)\n",
      "File \u001b[1;32mc:\\ProgramData\\Anaconda3\\envs\\calf-pytorch\\lib\\site-packages\\torch\\onnx\\__init__.py:241\u001b[0m, in \u001b[0;36m_run_symbolic_function\u001b[1;34m(*args, **kwargs)\u001b[0m\n\u001b[0;32m    239\u001b[0m \u001b[38;5;28;01mdef\u001b[39;00m \u001b[38;5;21m_run_symbolic_function\u001b[39m(\u001b[38;5;241m*\u001b[39margs, \u001b[38;5;241m*\u001b[39m\u001b[38;5;241m*\u001b[39mkwargs):\n\u001b[0;32m    240\u001b[0m     \u001b[38;5;28;01mfrom\u001b[39;00m \u001b[38;5;21;01mtorch\u001b[39;00m\u001b[38;5;21;01m.\u001b[39;00m\u001b[38;5;21;01monnx\u001b[39;00m \u001b[38;5;28;01mimport\u001b[39;00m utils\n\u001b[1;32m--> 241\u001b[0m     \u001b[38;5;28;01mreturn\u001b[39;00m \u001b[43mutils\u001b[49m\u001b[38;5;241;43m.\u001b[39;49m\u001b[43m_run_symbolic_function\u001b[49m\u001b[43m(\u001b[49m\u001b[38;5;241;43m*\u001b[39;49m\u001b[43margs\u001b[49m\u001b[43m,\u001b[49m\u001b[43m \u001b[49m\u001b[38;5;241;43m*\u001b[39;49m\u001b[38;5;241;43m*\u001b[39;49m\u001b[43mkwargs\u001b[49m\u001b[43m)\u001b[49m\n",
      "File \u001b[1;32mc:\\ProgramData\\Anaconda3\\envs\\calf-pytorch\\lib\\site-packages\\torch\\onnx\\utils.py:787\u001b[0m, in \u001b[0;36m_run_symbolic_function\u001b[1;34m(g, n, inputs, env, operator_export_type)\u001b[0m\n\u001b[0;32m    784\u001b[0m \u001b[38;5;28;01melse\u001b[39;00m:\n\u001b[0;32m    785\u001b[0m     \u001b[38;5;66;03m# Export it regularly\u001b[39;00m\n\u001b[0;32m    786\u001b[0m     domain \u001b[38;5;241m=\u001b[39m \u001b[38;5;124m'\u001b[39m\u001b[38;5;124m'\u001b[39m\n\u001b[1;32m--> 787\u001b[0m     symbolic_fn \u001b[38;5;241m=\u001b[39m \u001b[43m_find_symbolic_in_registry\u001b[49m\u001b[43m(\u001b[49m\u001b[43mdomain\u001b[49m\u001b[43m,\u001b[49m\u001b[43m \u001b[49m\u001b[43mop_name\u001b[49m\u001b[43m,\u001b[49m\u001b[43m \u001b[49m\u001b[43mopset_version\u001b[49m\u001b[43m,\u001b[49m\u001b[43m \u001b[49m\u001b[43moperator_export_type\u001b[49m\u001b[43m)\u001b[49m\n\u001b[0;32m    788\u001b[0m     \u001b[38;5;28;01mif\u001b[39;00m symbolic_fn \u001b[38;5;129;01mis\u001b[39;00m \u001b[38;5;28;01mNone\u001b[39;00m:\n\u001b[0;32m    789\u001b[0m         \u001b[38;5;28;01mreturn\u001b[39;00m \u001b[38;5;28;01mNone\u001b[39;00m\n",
      "File \u001b[1;32mc:\\ProgramData\\Anaconda3\\envs\\calf-pytorch\\lib\\site-packages\\torch\\onnx\\utils.py:745\u001b[0m, in \u001b[0;36m_find_symbolic_in_registry\u001b[1;34m(domain, op_name, opset_version, operator_export_type)\u001b[0m\n\u001b[0;32m    742\u001b[0m     \u001b[38;5;28;01mif\u001b[39;00m operator_export_type \u001b[38;5;241m==\u001b[39m OperatorExportTypes\u001b[38;5;241m.\u001b[39mONNX_FALLTHROUGH:\n\u001b[0;32m    743\u001b[0m         \u001b[38;5;66;03m# Use the original node directly\u001b[39;00m\n\u001b[0;32m    744\u001b[0m         \u001b[38;5;28;01mreturn\u001b[39;00m \u001b[38;5;28;01mNone\u001b[39;00m\n\u001b[1;32m--> 745\u001b[0m \u001b[38;5;28;01mreturn\u001b[39;00m \u001b[43msym_registry\u001b[49m\u001b[38;5;241;43m.\u001b[39;49m\u001b[43mget_registered_op\u001b[49m\u001b[43m(\u001b[49m\u001b[43mop_name\u001b[49m\u001b[43m,\u001b[49m\u001b[43m \u001b[49m\u001b[43mdomain\u001b[49m\u001b[43m,\u001b[49m\u001b[43m \u001b[49m\u001b[43mopset_version\u001b[49m\u001b[43m)\u001b[49m\n",
      "File \u001b[1;32mc:\\ProgramData\\Anaconda3\\envs\\calf-pytorch\\lib\\site-packages\\torch\\onnx\\symbolic_registry.py:109\u001b[0m, in \u001b[0;36mget_registered_op\u001b[1;34m(opname, domain, version)\u001b[0m\n\u001b[0;32m    107\u001b[0m     \u001b[38;5;28;01melse\u001b[39;00m:\n\u001b[0;32m    108\u001b[0m         msg \u001b[38;5;241m+\u001b[39m\u001b[38;5;241m=\u001b[39m \u001b[38;5;124m\"\u001b[39m\u001b[38;5;124mPlease open a bug to request ONNX export support for the missing operator.\u001b[39m\u001b[38;5;124m\"\u001b[39m\n\u001b[1;32m--> 109\u001b[0m     \u001b[38;5;28;01mraise\u001b[39;00m \u001b[38;5;167;01mRuntimeError\u001b[39;00m(msg)\n\u001b[0;32m    110\u001b[0m \u001b[38;5;28;01mreturn\u001b[39;00m _registry[(domain, version)][opname]\n",
      "\u001b[1;31mRuntimeError\u001b[0m: Exporting the operator square to ONNX opset version 9 is not supported. Please open a bug to request ONNX export support for the missing operator."
     ]
    }
   ],
   "source": [
    "import torch\n",
    "import hiddenlayer as hl\n",
    "import torchvision.models\n",
    "import graphviz\n",
    "from model import ContextAwareModel\n",
    "\n",
    "model = ContextAwareModel()\n",
    "#model = torchvision.models.vgg16()\n",
    "\n",
    "model.eval()\n",
    "\n",
    "print(model)\n",
    "\n",
    "# x = torch.randn(128, 1, 240, 512)\n",
    "# y = model(x)\n",
    "\n",
    "hl_graph = hl.build_graph(model, torch.zeros([128, 1, 240, 512])).build_dot()\n",
    "#hl_graph = hl.build_graph(model, torch.zeros([1, 3, 224, 224])).build_dot()\n",
    "\n",
    "# Use a different color theme\n",
    "hl_graph.theme = hl.graph.THEMES[\"blue\"].copy()  # Two options: basic and blue\n",
    "hl_graph"
   ]
  }
 ],
 "metadata": {
  "kernelspec": {
   "display_name": "calf-pytorch",
   "language": "python",
   "name": "python3"
  },
  "language_info": {
   "codemirror_mode": {
    "name": "ipython",
    "version": 3
   },
   "file_extension": ".py",
   "mimetype": "text/x-python",
   "name": "python",
   "nbconvert_exporter": "python",
   "pygments_lexer": "ipython3",
   "version": "3.8.18"
  }
 },
 "nbformat": 4,
 "nbformat_minor": 2
}
